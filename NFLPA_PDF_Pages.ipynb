{
  "nbformat": 4,
  "nbformat_minor": 0,
  "metadata": {
    "colab": {
      "provenance": []
    },
    "kernelspec": {
      "name": "python3",
      "display_name": "Python 3"
    },
    "language_info": {
      "name": "python"
    }
  },
  "cells": [
    {
      "cell_type": "code",
      "execution_count": null,
      "metadata": {
        "colab": {
          "base_uri": "https://localhost:8080/"
        },
        "id": "eFVXAUZsbPXK",
        "outputId": "6e33d06b-5228-4dc6-da7b-8f3d203841f8"
      },
      "outputs": [
        {
          "output_type": "stream",
          "name": "stdout",
          "text": [
            "Reading package lists... Done\n",
            "Building dependency tree... Done\n",
            "Reading state information... Done\n",
            "poppler-utils is already the newest version (22.02.0-2ubuntu0.10).\n",
            "0 upgraded, 0 newly installed, 0 to remove and 35 not upgraded.\n",
            "Requirement already satisfied: pdf2image in /usr/local/lib/python3.12/dist-packages (1.17.0)\n",
            "Requirement already satisfied: pillow in /usr/local/lib/python3.12/dist-packages (11.3.0)\n"
          ]
        }
      ],
      "source": [
        "!apt-get install -y poppler-utils\n",
        "!pip install pdf2image pillow"
      ]
    },
    {
      "cell_type": "code",
      "source": [
        "from pdf2image import convert_from_path\n",
        "from PIL import Image\n",
        "import os, zipfile"
      ],
      "metadata": {
        "id": "2Ib3KZhibXlm"
      },
      "execution_count": null,
      "outputs": []
    },
    {
      "cell_type": "code",
      "source": [
        "pdf_path = '/content/8-28 NFLPA Survey Analysis Trimmed.pdf'\n",
        "dpi_setting = 500\n",
        "output_folder = 'content/pdf_pages_500_8_28_1'\n",
        "output_zip = 'content/pdf_pages_500_8_28_1.zip'"
      ],
      "metadata": {
        "id": "LpbPE5DIbXoy"
      },
      "execution_count": null,
      "outputs": []
    },
    {
      "cell_type": "code",
      "source": [
        "os.makedirs(output_folder, exist_ok = True)"
      ],
      "metadata": {
        "id": "cHpEh_oZbXuo"
      },
      "execution_count": null,
      "outputs": []
    },
    {
      "cell_type": "code",
      "source": [
        "pages = convert_from_path(pdf_path, dpi = dpi_setting)"
      ],
      "metadata": {
        "id": "v4HSl6FCbXxl"
      },
      "execution_count": null,
      "outputs": []
    },
    {
      "cell_type": "code",
      "source": [
        "for i, page in enumerate(pages, start = 1):\n",
        "  img = page.convert('RGB')\n",
        "\n",
        "  if i == 1:\n",
        "    base_size = img.size\n",
        "  else:\n",
        "    img = img.resize(base_size, Image.LANCZOS)\n",
        "\n",
        "  img.save(f'{output_folder}/page_{i:02d}.png', \"PNG\")"
      ],
      "metadata": {
        "id": "HPnAJ3MmbX0w"
      },
      "execution_count": null,
      "outputs": []
    },
    {
      "cell_type": "code",
      "source": [
        "with zipfile.ZipFile(output_zip, 'w') as zipf:\n",
        "  for file in sorted(os.listdir(output_folder)):\n",
        "    zipf.write(os.path.join(output_folder, file), file)"
      ],
      "metadata": {
        "id": "h929XsPjbX3y"
      },
      "execution_count": null,
      "outputs": []
    },
    {
      "cell_type": "code",
      "source": [
        "print(f'Done: images can be downloaded here: {output_zip}')"
      ],
      "metadata": {
        "colab": {
          "base_uri": "https://localhost:8080/"
        },
        "id": "yOsyCqDhbYfx",
        "outputId": "08299624-720d-45ad-b64b-146884b76c9a"
      },
      "execution_count": null,
      "outputs": [
        {
          "output_type": "stream",
          "name": "stdout",
          "text": [
            "Done: images can be downloaded here: content/pdf_pages_500_8_28_1.zip\n"
          ]
        }
      ]
    }
  ]
}