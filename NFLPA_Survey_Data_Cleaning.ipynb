{
  "nbformat": 4,
  "nbformat_minor": 0,
  "metadata": {
    "colab": {
      "provenance": []
    },
    "kernelspec": {
      "name": "python3",
      "display_name": "Python 3"
    },
    "language_info": {
      "name": "python"
    }
  },
  "cells": [
    {
      "cell_type": "code",
      "execution_count": null,
      "metadata": {
        "colab": {
          "base_uri": "https://localhost:8080/"
        },
        "id": "lKi8Z6swnbeR",
        "outputId": "8151d8b6-e3cc-4878-91a1-42d98041ce49"
      },
      "outputs": [
        {
          "output_type": "stream",
          "name": "stdout",
          "text": [
            "Requirement already satisfied: pyxlsb in /usr/local/lib/python3.11/dist-packages (1.0.10)\n"
          ]
        }
      ],
      "source": [
        "import numpy as np\n",
        "import pandas as pd\n",
        "from google.colab import files\n",
        "!pip install pyxlsb"
      ]
    },
    {
      "cell_type": "code",
      "source": [
        "survey_data = pd.read_excel('NFLPA Survey Data.xlsb', sheet_name = 'Sheet1', engine = 'pyxlsb')"
      ],
      "metadata": {
        "id": "CjGM0sKJo3t7"
      },
      "execution_count": null,
      "outputs": []
    },
    {
      "cell_type": "code",
      "source": [
        "rating_columns = [\n",
        "    'treatment_of_families',\n",
        "    'diet_nutrition_staff',\n",
        "    'weight_room',\n",
        "    'strength_staff_coaches',\n",
        "    'training_room',\n",
        "    'locker_room',\n",
        "    'team_travel',\n",
        "    'head_coach_rating',\n",
        "    'ownership_rating'\n",
        "]"
      ],
      "metadata": {
        "id": "O48DCa_mo34J"
      },
      "execution_count": null,
      "outputs": []
    },
    {
      "cell_type": "code",
      "source": [
        "survey_data.columns = (\n",
        "    survey_data.columns\n",
        "    .str.strip()\n",
        "    .str.lower()\n",
        "    .str.replace(' ', '_')\n",
        "    .str.replace('/', '_')\n",
        "    .str.replace('?', '', regex = False)\n",
        ")"
      ],
      "metadata": {
        "id": "f9Jm7XswX5jY"
      },
      "execution_count": null,
      "outputs": []
    },
    {
      "cell_type": "code",
      "source": [
        "survey_data = survey_data.rename(columns = {\n",
        "    'nutrition_nutritionist_dietician': 'diet_nutrition_staff',\n",
        "    'food_cafeteria_dining_area': 'dining_area',\n",
        "    'strength_staff_coaches': 'strength_staff'\n",
        "})"
      ],
      "metadata": {
        "id": "UzS63nE8YRf_"
      },
      "execution_count": null,
      "outputs": []
    },
    {
      "cell_type": "code",
      "source": [
        "survey_data.columns.tolist()"
      ],
      "metadata": {
        "colab": {
          "base_uri": "https://localhost:8080/"
        },
        "id": "M1oJYBwMYS31",
        "outputId": "1f4391b7-cf72-47be-93fa-8859c52d19a8"
      },
      "execution_count": null,
      "outputs": [
        {
          "output_type": "execute_result",
          "data": {
            "text/plain": [
              "['year',\n",
              " 'team_name',\n",
              " 'team_owner',\n",
              " 'head_coach',\n",
              " 'interim',\n",
              " 'games_coached',\n",
              " 'treatment_of_families',\n",
              " 'dining_area',\n",
              " 'diet_nutrition_staff',\n",
              " 'weight_room',\n",
              " 'strength_staff',\n",
              " 'training_room',\n",
              " 'training_staff',\n",
              " 'locker_room',\n",
              " 'team_travel',\n",
              " 'head_coach_rating',\n",
              " 'ownership_rating']"
            ]
          },
          "metadata": {},
          "execution_count": 6
        }
      ]
    },
    {
      "cell_type": "code",
      "source": [
        "grade_to_score = {\n",
        "    'A+': 4.3, 'A': 4.0, 'A-': 3.7,\n",
        "    'B+': 3.3, 'B': 3.0, 'B-': 2.7,\n",
        "    'C+': 2.3, 'C': 2.0, 'C-': 1.7,\n",
        "    'D+': 1.3, 'D': 1.0, 'D-': 0.7,\n",
        "    'F': 0.0, 'F-': 0.0\n",
        "}"
      ],
      "metadata": {
        "id": "TxL1VEbgo3w9"
      },
      "execution_count": null,
      "outputs": []
    },
    {
      "cell_type": "code",
      "source": [
        "rating_columns = [\n",
        "    'treatment_of_families',\n",
        "    'dining_area',\n",
        "    'diet_nutrition_staff',\n",
        "    'weight_room',\n",
        "    'strength_staff',\n",
        "    'training_room',\n",
        "    'training_staff',\n",
        "    'locker_room',\n",
        "    'team_travel',\n",
        "    'head_coach_rating',\n",
        "    'ownership_rating'\n",
        "]"
      ],
      "metadata": {
        "id": "oNsFdBQcZAoX"
      },
      "execution_count": null,
      "outputs": []
    },
    {
      "cell_type": "code",
      "source": [
        "for col in rating_columns:\n",
        "  survey_data[f'{col}_score'] = survey_data[col].map(grade_to_score)"
      ],
      "metadata": {
        "id": "ALmBDlqvZT6P"
      },
      "execution_count": null,
      "outputs": []
    },
    {
      "cell_type": "code",
      "source": [
        "for col in rating_columns:\n",
        "  availability_col = f'{col}_available'\n",
        "  survey_data[availability_col] = survey_data[col].notna()"
      ],
      "metadata": {
        "id": "n20YcYZ8ZnmG"
      },
      "execution_count": null,
      "outputs": []
    },
    {
      "cell_type": "code",
      "source": [
        "survey_data['num_available_ratings'] = survey_data[\n",
        "    [f'{col}_score' for col in rating_columns]\n",
        "].notna().sum(axis = 1)"
      ],
      "metadata": {
        "id": "eFvNagKzbcTx"
      },
      "execution_count": null,
      "outputs": []
    },
    {
      "cell_type": "code",
      "source": [
        "survey_data['average_score'] = survey_data[\n",
        "    [f'{col}_score' for col in rating_columns]\n",
        "].mean(axis = 1, skipna = True)"
      ],
      "metadata": {
        "id": "ByconeiFbcj5"
      },
      "execution_count": null,
      "outputs": []
    },
    {
      "cell_type": "code",
      "source": [
        "survey_data['survey_version'] = survey_data['year'].apply(\n",
        "    lambda y: '2022 Base' if y == 2022 else '2023+ Expanded'\n",
        ")"
      ],
      "metadata": {
        "id": "Rg2hMnwFbdmk"
      },
      "execution_count": null,
      "outputs": []
    },
    {
      "cell_type": "code",
      "source": [
        "for col in rating_columns:\n",
        "  survey_data[col] = survey_data[col].astype(str).str.strip().str.upper().replace('NAN', np.nan)"
      ],
      "metadata": {
        "id": "PXWGafm7c4i1"
      },
      "execution_count": null,
      "outputs": []
    },
    {
      "cell_type": "code",
      "source": [
        "survey_data.to_csv('cleaned_nflpa_survey.csv', index = False)\n",
        "files.download('cleaned_nflpa_survey.csv')"
      ],
      "metadata": {
        "colab": {
          "base_uri": "https://localhost:8080/",
          "height": 17
        },
        "id": "sBHQj842c54L",
        "outputId": "4bdcc205-8787-46ce-e57a-2f0b88bc7b1b"
      },
      "execution_count": null,
      "outputs": [
        {
          "output_type": "display_data",
          "data": {
            "text/plain": [
              "<IPython.core.display.Javascript object>"
            ],
            "application/javascript": [
              "\n",
              "    async function download(id, filename, size) {\n",
              "      if (!google.colab.kernel.accessAllowed) {\n",
              "        return;\n",
              "      }\n",
              "      const div = document.createElement('div');\n",
              "      const label = document.createElement('label');\n",
              "      label.textContent = `Downloading \"${filename}\": `;\n",
              "      div.appendChild(label);\n",
              "      const progress = document.createElement('progress');\n",
              "      progress.max = size;\n",
              "      div.appendChild(progress);\n",
              "      document.body.appendChild(div);\n",
              "\n",
              "      const buffers = [];\n",
              "      let downloaded = 0;\n",
              "\n",
              "      const channel = await google.colab.kernel.comms.open(id);\n",
              "      // Send a message to notify the kernel that we're ready.\n",
              "      channel.send({})\n",
              "\n",
              "      for await (const message of channel.messages) {\n",
              "        // Send a message to notify the kernel that we're ready.\n",
              "        channel.send({})\n",
              "        if (message.buffers) {\n",
              "          for (const buffer of message.buffers) {\n",
              "            buffers.push(buffer);\n",
              "            downloaded += buffer.byteLength;\n",
              "            progress.value = downloaded;\n",
              "          }\n",
              "        }\n",
              "      }\n",
              "      const blob = new Blob(buffers, {type: 'application/binary'});\n",
              "      const a = document.createElement('a');\n",
              "      a.href = window.URL.createObjectURL(blob);\n",
              "      a.download = filename;\n",
              "      div.appendChild(a);\n",
              "      a.click();\n",
              "      div.remove();\n",
              "    }\n",
              "  "
            ]
          },
          "metadata": {}
        },
        {
          "output_type": "display_data",
          "data": {
            "text/plain": [
              "<IPython.core.display.Javascript object>"
            ],
            "application/javascript": [
              "download(\"download_a3156cef-c1e3-4416-94ff-64e59d571ff2\", \"cleaned_nflpa_survey.csv\", 22832)"
            ]
          },
          "metadata": {}
        }
      ]
    }
  ]
}